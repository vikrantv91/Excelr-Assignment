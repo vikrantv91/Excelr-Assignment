{
 "cells": [
  {
   "cell_type": "markdown",
   "metadata": {
    "id": "UgLPjlenOAZU"
   },
   "source": [
    "# Import Data Set"
   ]
  },
  {
   "cell_type": "code",
   "execution_count": 1,
   "metadata": {
    "execution": {
     "iopub.execute_input": "2021-11-01T06:25:36.912639Z",
     "iopub.status.busy": "2021-11-01T06:25:36.912254Z",
     "iopub.status.idle": "2021-11-01T06:25:36.947681Z",
     "shell.execute_reply": "2021-11-01T06:25:36.946921Z",
     "shell.execute_reply.started": "2021-11-01T06:25:36.912598Z"
    },
    "id": "t87KFKu3OAZV",
    "outputId": "9fff4407-61bf-480a-a972-cc45fa6cef2c"
   },
   "outputs": [],
   "source": [
    "import pandas as pd\n",
    "data = pd.read_csv(\"../input/newspaper123/NewspaperData.csv\")\n",
    "data.head()"
   ]
  },
  {
   "cell_type": "code",
   "execution_count": 2,
   "metadata": {
    "execution": {
     "iopub.execute_input": "2021-11-01T06:25:36.949797Z",
     "iopub.status.busy": "2021-11-01T06:25:36.949296Z",
     "iopub.status.idle": "2021-11-01T06:25:36.966206Z",
     "shell.execute_reply": "2021-11-01T06:25:36.964887Z",
     "shell.execute_reply.started": "2021-11-01T06:25:36.949754Z"
    }
   },
   "outputs": [],
   "source": [
    "data.info()"
   ]
  },
  {
   "cell_type": "markdown",
   "metadata": {
    "id": "whOIvCAzOAZZ"
   },
   "source": [
    "# Correlation"
   ]
  },
  {
   "cell_type": "code",
   "execution_count": 3,
   "metadata": {
    "execution": {
     "iopub.execute_input": "2021-11-01T06:25:36.968610Z",
     "iopub.status.busy": "2021-11-01T06:25:36.967898Z",
     "iopub.status.idle": "2021-11-01T06:25:36.983921Z",
     "shell.execute_reply": "2021-11-01T06:25:36.982913Z",
     "shell.execute_reply.started": "2021-11-01T06:25:36.968562Z"
    },
    "id": "4Uaqam_BOAZZ",
    "outputId": "2118fe0b-d1d6-4474-cf45-8e8b0b4680b2"
   },
   "outputs": [],
   "source": [
    "data.corr()"
   ]
  },
  {
   "cell_type": "code",
   "execution_count": 4,
   "metadata": {
    "execution": {
     "iopub.execute_input": "2021-11-01T06:25:36.986318Z",
     "iopub.status.busy": "2021-11-01T06:25:36.985583Z",
     "iopub.status.idle": "2021-11-01T06:25:38.132302Z",
     "shell.execute_reply": "2021-11-01T06:25:38.131524Z",
     "shell.execute_reply.started": "2021-11-01T06:25:36.986273Z"
    }
   },
   "outputs": [],
   "source": [
    "import seaborn as sns\n",
    "sns.distplot(data['daily'])"
   ]
  },
  {
   "cell_type": "code",
   "execution_count": 5,
   "metadata": {
    "execution": {
     "iopub.execute_input": "2021-11-01T06:25:38.134801Z",
     "iopub.status.busy": "2021-11-01T06:25:38.134416Z",
     "iopub.status.idle": "2021-11-01T06:25:38.303638Z",
     "shell.execute_reply": "2021-11-01T06:25:38.302780Z",
     "shell.execute_reply.started": "2021-11-01T06:25:38.134770Z"
    }
   },
   "outputs": [],
   "source": [
    "import seaborn as sns\n",
    "sns.distplot(data['sunday'])"
   ]
  },
  {
   "cell_type": "markdown",
   "metadata": {
    "id": "Hh2B9xPQOAZc"
   },
   "source": [
    "Fitting a Linear Regression Model"
   ]
  },
  {
   "cell_type": "code",
   "execution_count": 6,
   "metadata": {
    "execution": {
     "iopub.execute_input": "2021-11-01T06:25:38.305690Z",
     "iopub.status.busy": "2021-11-01T06:25:38.305096Z",
     "iopub.status.idle": "2021-11-01T06:25:38.514269Z",
     "shell.execute_reply": "2021-11-01T06:25:38.513300Z",
     "shell.execute_reply.started": "2021-11-01T06:25:38.305646Z"
    },
    "id": "0SO63uMnOAZc",
    "outputId": "d755b8ff-516d-45b1-aab6-6dbf24284151"
   },
   "outputs": [],
   "source": [
    "import statsmodels.formula.api as smf\n",
    "model = smf.ols(\"sunday~daily\",data = data).fit()"
   ]
  },
  {
   "cell_type": "code",
   "execution_count": 7,
   "metadata": {
    "execution": {
     "iopub.execute_input": "2021-11-01T06:25:38.516072Z",
     "iopub.status.busy": "2021-11-01T06:25:38.515736Z",
     "iopub.status.idle": "2021-11-01T06:25:38.805996Z",
     "shell.execute_reply": "2021-11-01T06:25:38.805166Z",
     "shell.execute_reply.started": "2021-11-01T06:25:38.516041Z"
    }
   },
   "outputs": [],
   "source": [
    "sns.regplot(x=\"daily\", y=\"sunday\", data=data);"
   ]
  },
  {
   "cell_type": "code",
   "execution_count": 8,
   "metadata": {
    "execution": {
     "iopub.execute_input": "2021-11-01T06:25:38.807635Z",
     "iopub.status.busy": "2021-11-01T06:25:38.807339Z",
     "iopub.status.idle": "2021-11-01T06:25:38.815118Z",
     "shell.execute_reply": "2021-11-01T06:25:38.814038Z",
     "shell.execute_reply.started": "2021-11-01T06:25:38.807605Z"
    }
   },
   "outputs": [],
   "source": [
    "#Coefficients\n",
    "model.params"
   ]
  },
  {
   "cell_type": "code",
   "execution_count": 9,
   "metadata": {
    "execution": {
     "iopub.execute_input": "2021-11-01T06:25:38.816844Z",
     "iopub.status.busy": "2021-11-01T06:25:38.816478Z",
     "iopub.status.idle": "2021-11-01T06:25:38.830670Z",
     "shell.execute_reply": "2021-11-01T06:25:38.829923Z",
     "shell.execute_reply.started": "2021-11-01T06:25:38.816790Z"
    }
   },
   "outputs": [],
   "source": [
    "#t and p-Values\n",
    "print(model.tvalues, '\\n', model.pvalues)    "
   ]
  },
  {
   "cell_type": "code",
   "execution_count": 10,
   "metadata": {
    "execution": {
     "iopub.execute_input": "2021-11-01T06:25:38.832705Z",
     "iopub.status.busy": "2021-11-01T06:25:38.832152Z",
     "iopub.status.idle": "2021-11-01T06:25:38.838605Z",
     "shell.execute_reply": "2021-11-01T06:25:38.837739Z",
     "shell.execute_reply.started": "2021-11-01T06:25:38.832672Z"
    }
   },
   "outputs": [],
   "source": [
    "#R squared values\n",
    "(model.rsquared,model.rsquared_adj)"
   ]
  },
  {
   "cell_type": "markdown",
   "metadata": {
    "id": "F2S7v7rdOAZf"
   },
   "source": [
    "# Predict for new data point"
   ]
  },
  {
   "cell_type": "code",
   "execution_count": 11,
   "metadata": {
    "execution": {
     "iopub.execute_input": "2021-11-01T06:25:38.840487Z",
     "iopub.status.busy": "2021-11-01T06:25:38.839893Z",
     "iopub.status.idle": "2021-11-01T06:25:38.846972Z",
     "shell.execute_reply": "2021-11-01T06:25:38.846266Z",
     "shell.execute_reply.started": "2021-11-01T06:25:38.840449Z"
    },
    "id": "rqe52vmCOAZg",
    "outputId": "1578e5b2-5135-41d4-875a-e580cf87dc6b"
   },
   "outputs": [],
   "source": [
    "#Predict for 200 and 300 daily circulation\n",
    "newdata=pd.Series([200,300])"
   ]
  },
  {
   "cell_type": "code",
   "execution_count": 12,
   "metadata": {
    "execution": {
     "iopub.execute_input": "2021-11-01T06:25:38.848701Z",
     "iopub.status.busy": "2021-11-01T06:25:38.848178Z",
     "iopub.status.idle": "2021-11-01T06:25:38.858148Z",
     "shell.execute_reply": "2021-11-01T06:25:38.857319Z",
     "shell.execute_reply.started": "2021-11-01T06:25:38.848667Z"
    }
   },
   "outputs": [],
   "source": [
    "data_pred=pd.DataFrame(newdata,columns=['daily'])"
   ]
  },
  {
   "cell_type": "markdown",
   "metadata": {},
   "source": []
  },
  {
   "cell_type": "code",
   "execution_count": 13,
   "metadata": {
    "execution": {
     "iopub.execute_input": "2021-11-01T06:25:38.859932Z",
     "iopub.status.busy": "2021-11-01T06:25:38.859397Z",
     "iopub.status.idle": "2021-11-01T06:25:38.874164Z",
     "shell.execute_reply": "2021-11-01T06:25:38.873186Z",
     "shell.execute_reply.started": "2021-11-01T06:25:38.859887Z"
    }
   },
   "outputs": [],
   "source": [
    "model.predict(data_pred)"
   ]
  },
  {
   "cell_type": "code",
   "execution_count": null,
   "metadata": {},
   "outputs": [],
   "source": []
  }
 ],
 "metadata": {
  "kernelspec": {
   "display_name": "Python 3 (ipykernel)",
   "language": "python",
   "name": "python3"
  },
  "language_info": {
   "codemirror_mode": {
    "name": "ipython",
    "version": 3
   },
   "file_extension": ".py",
   "mimetype": "text/x-python",
   "name": "python",
   "nbconvert_exporter": "python",
   "pygments_lexer": "ipython3",
   "version": "3.9.7"
  }
 },
 "nbformat": 4,
 "nbformat_minor": 4
}
